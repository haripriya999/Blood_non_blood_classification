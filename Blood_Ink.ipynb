{
 "cells": [
  {
   "cell_type": "code",
   "execution_count": 12,
   "metadata": {},
   "outputs": [],
   "source": [
    "import tensorflow as tf\n",
    "import numpy as np\n",
    "import pandas as pd\n",
    "import os\n",
    "import matplotlib.pyplot as plt\n",
    "import matplotlib.image as im"
   ]
  },
  {
   "cell_type": "code",
   "execution_count": 13,
   "metadata": {},
   "outputs": [
    {
     "data": {
      "text/plain": [
       "['TrainingImagesold', 'TestingImagesold']"
      ]
     },
     "execution_count": 13,
     "metadata": {},
     "output_type": "execute_result"
    }
   ],
   "source": [
    "os.listdir('blood_non_blood')"
   ]
  },
  {
   "cell_type": "code",
   "execution_count": 14,
   "metadata": {},
   "outputs": [],
   "source": [
    "import tensorflow as tf\n",
    "from tensorflow.keras.layers import Dense,Flatten,Conv2D,MaxPooling2D,Activation,Dropout\n",
    "from tensorflow.keras.models import Sequential\n",
    "from tensorflow.keras.preprocessing.image import ImageDataGenerator"
   ]
  },
  {
   "cell_type": "code",
   "execution_count": 15,
   "metadata": {},
   "outputs": [
    {
     "name": "stdout",
     "output_type": "stream",
     "text": [
      "Found 168 images belonging to 2 classes.\n",
      "Found 72 images belonging to 2 classes.\n"
     ]
    }
   ],
   "source": [
    "batch_size=10\n",
    "data_generator=ImageDataGenerator(rescale=1.0/255)\n",
    "train_data=data_generator.flow_from_directory('blood_non_blood/TrainingImagesold',target_size=(150,150),batch_size=batch_size,class_mode='binary')\n",
    "test_data=data_generator.flow_from_directory('blood_non_blood/TestingImagesold',target_size=(150,150),batch_size=batch_size,class_mode='binary')"
   ]
  },
  {
   "cell_type": "code",
   "execution_count": 16,
   "metadata": {},
   "outputs": [],
   "source": [
    "model=Sequential()\n",
    "model.add(Conv2D(32,kernel_size=(5,5),input_shape=(150,150,3),activation='relu'))\n",
    "model.add(MaxPooling2D(2))\n",
    "model.add(Conv2D(64,kernel_size=(5,5),activation='relu'))\n",
    "model.add(MaxPooling2D(2))\n",
    "model.add(Flatten())\n",
    "model.add(Dropout(0.5))\n",
    "model.add(Dense(32,activation='relu'))\n",
    "model.add(Dense(1,activation='sigmoid'))\n",
    "model.compile(optimizer='adam',loss='binary_crossentropy',metrics=['accuracy'])"
   ]
  },
  {
   "cell_type": "code",
   "execution_count": 17,
   "metadata": {},
   "outputs": [
    {
     "name": "stdout",
     "output_type": "stream",
     "text": [
      "Epoch 1/10\n",
      "12/12 [==============================] - 8s 678ms/step - loss: 0.9577 - accuracy: 0.4417 - val_loss: 0.6687 - val_accuracy: 0.4911\n",
      "Epoch 2/10\n",
      "12/12 [==============================] - 8s 647ms/step - loss: 0.6628 - accuracy: 0.5085 - val_loss: 0.5509 - val_accuracy: 0.5268\n",
      "Epoch 3/10\n",
      "12/12 [==============================] - 8s 628ms/step - loss: 0.4849 - accuracy: 0.7034 - val_loss: 0.4139 - val_accuracy: 0.7946\n",
      "Epoch 4/10\n",
      "12/12 [==============================] - 7s 612ms/step - loss: 0.4248 - accuracy: 0.8917 - val_loss: 0.4287 - val_accuracy: 0.7946\n",
      "Epoch 5/10\n",
      "12/12 [==============================] - 8s 643ms/step - loss: 0.4213 - accuracy: 0.9483 - val_loss: 0.3855 - val_accuracy: 0.9554\n",
      "Epoch 6/10\n",
      "12/12 [==============================] - 8s 643ms/step - loss: 0.3583 - accuracy: 0.9667 - val_loss: 0.3844 - val_accuracy: 0.9375\n",
      "Epoch 7/10\n",
      "12/12 [==============================] - 7s 615ms/step - loss: 0.2930 - accuracy: 0.9831 - val_loss: 0.4512 - val_accuracy: 0.8750\n",
      "Epoch 8/10\n",
      "12/12 [==============================] - 8s 671ms/step - loss: 0.1943 - accuracy: 0.9407 - val_loss: 0.1321 - val_accuracy: 0.9375\n",
      "Epoch 9/10\n",
      "12/12 [==============================] - 8s 658ms/step - loss: 0.0779 - accuracy: 0.9661 - val_loss: 2.0759 - val_accuracy: 0.7500\n",
      "Epoch 10/10\n",
      "12/12 [==============================] - 8s 645ms/step - loss: 0.5034 - accuracy: 0.7833 - val_loss: 0.5413 - val_accuracy: 0.4554\n"
     ]
    },
    {
     "data": {
      "text/plain": [
       "<tensorflow.python.keras.callbacks.History at 0x7fed244eae80>"
      ]
     },
     "execution_count": 17,
     "metadata": {},
     "output_type": "execute_result"
    }
   ],
   "source": [
    "model.fit_generator(train_data,epochs=10,steps_per_epoch=12,validation_data=test_data,validation_steps=12,shuffle=True)"
   ]
  },
  {
   "cell_type": "code",
   "execution_count": 18,
   "metadata": {},
   "outputs": [
    {
     "data": {
      "text/plain": [
       "(775, 1000, 3)"
      ]
     },
     "execution_count": 18,
     "metadata": {},
     "output_type": "execute_result"
    }
   ],
   "source": [
    "\n",
    "img  = im.imread('blood_non_blood/TrainingImagesold/Blood/TCGA-02-0006-01Z-00-DX1.a37df719-8b93-4245-ae49-67eb1114253a&id-5af5f5d592ca9a001ae77354.jpg')\n",
    "img.shape"
   ]
  },
  {
   "cell_type": "code",
   "execution_count": null,
   "metadata": {},
   "outputs": [],
   "source": []
  },
  {
   "cell_type": "code",
   "execution_count": null,
   "metadata": {},
   "outputs": [],
   "source": []
  }
 ],
 "metadata": {
  "kernelspec": {
   "display_name": "Python 3",
   "language": "python",
   "name": "python3"
  },
  "language_info": {
   "codemirror_mode": {
    "name": "ipython",
    "version": 3
   },
   "file_extension": ".py",
   "mimetype": "text/x-python",
   "name": "python",
   "nbconvert_exporter": "python",
   "pygments_lexer": "ipython3",
   "version": "3.6.9"
  }
 },
 "nbformat": 4,
 "nbformat_minor": 4
}
